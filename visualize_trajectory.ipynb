{
 "cells": [
  {
   "cell_type": "code",
   "execution_count": 1,
   "metadata": {},
   "outputs": [
    {
     "name": "stderr",
     "output_type": "stream",
     "text": [
      "/Users/miyoshi/tensorflow1.7/lib/python3.6/site-packages/h5py/__init__.py:36: FutureWarning: Conversion of the second argument of issubdtype from `float` to `np.floating` is deprecated. In future, it will be treated as `np.float64 == np.dtype(float).type`.\n",
      "  from ._conv import register_converters as _register_converters\n"
     ]
    }
   ],
   "source": [
    "import matplotlib.pyplot as plt\n",
    "import numpy as np\n",
    "import os\n",
    "import pickle\n",
    "import tensorflow as tf\n",
    "\n",
    "%matplotlib inline"
   ]
  },
  {
   "cell_type": "code",
   "execution_count": 2,
   "metadata": {},
   "outputs": [
    {
     "name": "stdout",
     "output_type": "stream",
     "text": [
      "WARNING:tensorflow:From /Users/miyoshi/Documents/py_space/rat_grid/model.py:66: softmax_cross_entropy_with_logits (from tensorflow.python.ops.nn_ops) is deprecated and will be removed in a future version.\n",
      "Instructions for updating:\n",
      "\n",
      "Future major versions of TensorFlow will allow gradients to flow\n",
      "into the labels input on backprop by default.\n",
      "\n",
      "See tf.nn.softmax_cross_entropy_with_logits_v2.\n",
      "\n",
      "INFO:tensorflow:Restoring parameters from ./saved/checkpoints/checkpoint-299999\n"
     ]
    }
   ],
   "source": [
    "from model import Model\n",
    "from data_manager import DataManager\n",
    "from hd_cells import HDCells\n",
    "from place_cells import PlaceCells\n",
    "\n",
    "def load_checkpoints(sess):\n",
    "    saver = tf.train.Saver(max_to_keep=2)\n",
    "    save_dir = \"./saved\"\n",
    "    checkpoint_dir = save_dir + \"/checkpoints\"\n",
    "    \n",
    "    checkpoint = tf.train.get_checkpoint_state(checkpoint_dir)\n",
    "    if checkpoint and checkpoint.model_checkpoint_path:\n",
    "        saver.restore(sess, checkpoint.model_checkpoint_path)\n",
    "                \n",
    "batch_size = 1\n",
    "sequence_length = 100\n",
    "\n",
    "np.random.seed(1)\n",
    "    \n",
    "data_manager = DataManager()\n",
    "\n",
    "place_cells = PlaceCells()\n",
    "hd_cells = HDCells()\n",
    "\n",
    "data_manager.prepare(place_cells, hd_cells)\n",
    "\n",
    "model = Model(place_cell_size=place_cells.cell_size,\n",
    "                          hd_cell_size=hd_cells.cell_size,\n",
    "                          sequence_length=sequence_length)\n",
    "\n",
    "sess = tf.Session()\n",
    "sess.run(tf.global_variables_initializer())\n",
    "\n",
    "# Load checkpoints\n",
    "load_checkpoints(sess)\n"
   ]
  },
  {
   "cell_type": "code",
   "execution_count": 3,
   "metadata": {},
   "outputs": [
    {
     "data": {
      "text/plain": [
       "(-4.5, 4.5)"
      ]
     },
     "execution_count": 3,
     "metadata": {},
     "output_type": "execute_result"
    },
    {
     "data": {
      "image/png": "[encoded data removed]",
      "text/plain": [
       "<Figure size 720x720 with 1 Axes>"
      ]
     },
     "metadata": {},
     "output_type": "display_data"
    }
   ],
   "source": [
    "ep_length = 400\n",
    "sim_steps = 50000\n",
    "\n",
    "save_data = pickle.load(open(\"data/data.p\", \"rb\"))\n",
    "input_x = save_data[\"x\"] # (49999, 7)\n",
    "input_y = save_data[\"y\"] # (49999, 2)\n",
    "x = input_y[:100, 0]\n",
    "z = input_y[:100, 1]\n",
    "\n",
    "plt.figure(figsize=(10, 10))\n",
    "plt.scatter(input_y[:100, 0], input_y[:100, 1], s=1)\n",
    "plt.ylim(-4.5, 4.5)\n",
    "plt.xlim(-4.5, 4.5)"
   ]
  },
  {
   "cell_type": "code",
   "execution_count": 4,
   "metadata": {},
   "outputs": [],
   "source": [
    "# TODO: now using training data\n",
    "out = data_manager.get_confirm_batch(batch_size, sequence_length, 0)\n",
    "inputs_batch, place_init_batch, hd_init_batch, place_pos_batch = out"
   ]
  },
  {
   "cell_type": "code",
   "execution_count": 5,
   "metadata": {},
   "outputs": [],
   "source": [
    "place_output_result = sess.run(\n",
    "            model.place_outputs_result,\n",
    "            feed_dict = {\n",
    "                model.inputs : inputs_batch,\n",
    "                model.place_init : place_init_batch,\n",
    "                model.hd_init : hd_init_batch,\n",
    "                model.keep_prob : 1.0\n",
    "            })\n",
    "# (100, 256)"
   ]
  },
  {
   "cell_type": "code",
   "execution_count": 6,
   "metadata": {},
   "outputs": [
    {
     "data": {
      "text/plain": [
       "(-4.5, 4.5)"
      ]
     },
     "execution_count": 6,
     "metadata": {},
     "output_type": "execute_result"
    },
    {
     "data": {
      "image/png": "[encoded data removed]",
      "text/plain": [
       "<Figure size 720x720 with 1 Axes>"
      ]
     },
     "metadata": {},
     "output_type": "display_data"
    }
   ],
   "source": [
    "out_x = []\n",
    "out_z = []\n",
    "\n",
    "for c in place_output_result:\n",
    "    # c=(256,)\n",
    "    cell_pos = place_cells.get_nearest_cell_pos(c)\n",
    "    out_x.append(cell_pos[0])\n",
    "    out_z.append(cell_pos[1])\n",
    "    \n",
    "plt.figure(figsize=(10, 10))\n",
    "plt.plot(out_x, out_z, \"o-\")\n",
    "plt.ylim(-4.5, 4.5)\n",
    "plt.xlim(-4.5, 4.5)"
   ]
  },
  {
   "cell_type": "code",
   "execution_count": null,
   "metadata": {},
   "outputs": [],
   "source": []
  }
 ],
 "metadata": {
  "kernelspec": {
   "display_name": "Python 3",
   "language": "python",
   "name": "python3"
  },
  "language_info": {
   "codemirror_mode": {
    "name": "ipython",
    "version": 3
   },
   "file_extension": ".py",
   "mimetype": "text/x-python",
   "name": "python",
   "nbconvert_exporter": "python",
   "pygments_lexer": "ipython3",
   "version": "3.6.5"
  }
 },
 "nbformat": 4,
 "nbformat_minor": 2
}
